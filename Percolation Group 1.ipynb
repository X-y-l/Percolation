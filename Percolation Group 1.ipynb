{
 "cells": [
  {
   "cell_type": "markdown",
   "id": "charged-tunnel",
   "metadata": {},
   "source": [
    "# Percolation Group 1"
   ]
  },
  {
   "cell_type": "code",
   "execution_count": null,
   "id": "dental-steal",
   "metadata": {},
   "outputs": [],
   "source": []
  },
  {
   "cell_type": "markdown",
   "id": "foreign-participant",
   "metadata": {},
   "source": [
    "### Always run this cell before working on the code"
   ]
  },
  {
   "cell_type": "code",
   "execution_count": 5,
   "id": "upset-sharing",
   "metadata": {},
   "outputs": [],
   "source": [
    "\n",
    "# Import libraries\n",
    "import numpy as np\n",
    "import matplotlib.pyplot as plt"
   ]
  },
  {
   "cell_type": "markdown",
   "id": "ahead-oliver",
   "metadata": {},
   "source": [
    "## 1 (core)"
   ]
  },
  {
   "cell_type": "code",
   "execution_count": 6,
   "id": "gross-prime",
   "metadata": {},
   "outputs": [],
   "source": [
    "\n",
    "def display_rand_grid(grid_size, p_yellow):\n",
    "    '''\n",
    "    A function to display a random square grid of blue and yellow squares.\n",
    "    First argument is the side length and the second is the probability that a square is yellow\n",
    "    '''\n",
    "\n",
    "    colours = np.random.rand(grid_size, grid_size)  # Initialise 2d array of random numbers between 0 and 1\n",
    "    colours = colours < p_yellow  # Sets each cell to 1 if it's less than p_yellow, else 0.\n",
    "\n",
    "    plt.figure(figsize=(6,6))  #set appropriate figure size\n",
    "    plt.title(\"probability = \" + str(p_yellow))  # Adds title showing probability of a point being filled yellow\n",
    "    plt.pcolor(colours, cmap=\"plasma\")  # Makes the graph a rectangular grid plot with yellow and blue colour scheme\n",
    "    plt.gca().set_aspect('equal')   #set equal aspect ratio\n",
    "    plt.plot() #Plots the grid\n",
    "    plt.show()\n",
    "    return colours\n",
    "    \n",
    "def display_grid(grid):\n",
    "    \n",
    "    plt.figure(figsize=(6,6))  #set appropriate figure size\n",
    "    plt.pcolor(grid, cmap=\"plasma\")  # Makes the graph a rectangular grid plot with yellow and blue colour scheme\n",
    "    plt.gca().set_aspect('equal')   #set equal aspect ratio\n",
    "    plt.plot() #Plots the grid\n",
    "    plt.show()\n",
    "    return None\n",
    "    "
   ]
  },
  {
   "cell_type": "code",
   "execution_count": 76,
   "id": "eligible-characteristic",
   "metadata": {},
   "outputs": [
    {
     "data": {
      "image/png": "[encoded data removed]",
      "text/plain": [
       "<Figure size 432x432 with 1 Axes>"
      ]
     },
     "metadata": {
      "needs_background": "light"
     },
     "output_type": "display_data"
    }
   ],
   "source": [
    "mygrid = display_rand_grid(10, 0.5)"
   ]
  },
  {
   "cell_type": "code",
   "execution_count": 8,
   "id": "compliant-gates",
   "metadata": {},
   "outputs": [],
   "source": [
    "def generate_grid(grid_size, p_yellow):\n",
    "    '''\n",
    "    Given grid size and probability of a square being yellow, this outputs\n",
    "    a numpy array of booleans, with true representing yellow\n",
    "    '''\n",
    "    \n",
    "    colours = np.random.rand(grid_size, grid_size)  # Initialise 2d array of random numbers between 0 and 1\n",
    "    colours = colours < p_yellow  # Sets each cell to 1 if it's less than p_yellow, else 0.\n",
    "    return colours\n",
    "    \n",
    "    "
   ]
  },
  {
   "cell_type": "code",
   "execution_count": null,
   "id": "coastal-albany",
   "metadata": {
    "scrolled": true
   },
   "outputs": [],
   "source": []
  },
  {
   "cell_type": "markdown",
   "id": "encouraging-princess",
   "metadata": {},
   "source": [
    "## 2 (core)"
   ]
  },
  {
   "cell_type": "code",
   "execution_count": 71,
   "id": "thorough-neighbor",
   "metadata": {},
   "outputs": [],
   "source": [
    "def find_yellow_path(grid,show_path=False):\n",
    "    '''\n",
    "    For a numpy array of booleans (the yellow/blue grid), this function returns True or False\n",
    "    depending on whether or not a yellow path exists from the left to the right edge.\n",
    "    It will also display the path if you pass True\n",
    "    This is not efficient\n",
    "    '''\n",
    "    \n",
    "    #we know all the yellows on the left are reachable\n",
    "    grid_size = np.shape(grid)\n",
    "    side_length = grid_size[0]\n",
    "    #we make an array of the same size as the grid to store\n",
    "    #which squares we can reach. Initially we assume we can't reach any\n",
    "    #0 represents a square is unreachable\n",
    "    reachable = np.full(grid_size, 0)\n",
    "    #yellows is a list of arrays which contain the coordinates of each yellow square\n",
    "    yellows = tuple(np.argwhere(grid == True))\n",
    "    #storing all the 0th column yellows as reachable\n",
    "    #1 represents a square is reachable\n",
    "    for square in yellows:\n",
    "        y,x = square\n",
    "        if x == 0:\n",
    "            reachable[y,x] = 1\n",
    "    \n",
    "    #now we search for adjacent yellow squares to the ones we already have\n",
    "    #we keep searching through each element of reachable until we don't find any new squares\n",
    "    end = False\n",
    "    while end == False:\n",
    "        #the counter keeps track of how many new reachable squares are found\n",
    "        #every time the loop below repeats\n",
    "        counter = 0\n",
    "        for i in range(side_length):\n",
    "            for j in range(side_length):\n",
    "                if reachable[i,j] == 1:\n",
    "                    #check adjacent\n",
    "                    #the first ifs in each part stops us getting index out of bounds errors\n",
    "                    #we check !=1 because otherwise we'd find the same squares again\n",
    "                    #and it would loop forever\n",
    "                    if i-1>=0:\n",
    "                        #checks above\n",
    "                        if grid[i-1,j] == True and reachable[i-1,j] != 1:\n",
    "                            reachable[i-1,j] = 1\n",
    "                            counter+=1\n",
    "                    if i<side_length-1:\n",
    "                        #checks below\n",
    "                        if grid[i+1,j] == True and reachable[i+1,j] != 1:\n",
    "                            reachable[i+1,j] = 1\n",
    "                            counter+=1\n",
    "                    if j-1>=0:\n",
    "                        #checks left\n",
    "                        if grid[i,j-1] == True and reachable[i,j-1] != 1:\n",
    "                            reachable[i,j-1] = 1\n",
    "                            counter+=1\n",
    "                    if j<side_length-1:\n",
    "                        #checks right\n",
    "                        if grid[i,j+1] == True and reachable[i,j+1] != 1:\n",
    "                            reachable[i,j+1] = 1\n",
    "                            counter+=1\n",
    "        #if no new squares are found, the while loop ends\n",
    "        if counter == 0:\n",
    "            end = True\n",
    "                            \n",
    "    if show_path == True:\n",
    "        display_grid(reachable)\n",
    "    \n",
    "    #this sums the last column of reachable\n",
    "    #if the sum is 0, then all the squares are unreachable\n",
    "    #if >0, there must be a reachable square on the RHS\n",
    "    if sum(reachable[:,side_length-1]) > 0:\n",
    "        return True\n",
    "    else:\n",
    "        return False\n",
    "    \n",
    "    \n",
    "    \n",
    "  \n",
    "        \n",
    "    "
   ]
  },
  {
   "cell_type": "code",
   "execution_count": 77,
   "id": "finnish-cleaning",
   "metadata": {},
   "outputs": [
    {
     "data": {
      "image/png": "[encoded data removed]",
      "text/plain": [
       "<Figure size 432x432 with 1 Axes>"
      ]
     },
     "metadata": {
      "needs_background": "light"
     },
     "output_type": "display_data"
    },
    {
     "data": {
      "text/plain": [
       "True"
      ]
     },
     "execution_count": 77,
     "metadata": {},
     "output_type": "execute_result"
    }
   ],
   "source": [
    "find_yellow_path(mygrid,True)\n"
   ]
  },
  {
   "cell_type": "code",
   "execution_count": 38,
   "id": "labeled-colors",
   "metadata": {},
   "outputs": [
    {
     "data": {
      "text/plain": [
       "8"
      ]
     },
     "execution_count": 38,
     "metadata": {},
     "output_type": "execute_result"
    }
   ],
   "source": [
    "A = np.array([[1,2,3],[4,5,6],[7,8,9]])\n",
    "A[2,1]"
   ]
  }
 ],
 "metadata": {
  "kernelspec": {
   "display_name": "Python 3 (ipykernel)",
   "language": "python",
   "name": "python3"
  },
  "language_info": {
   "codemirror_mode": {
    "name": "ipython",
    "version": 3
   },
   "file_extension": ".py",
   "mimetype": "text/x-python",
   "name": "python",
   "nbconvert_exporter": "python",
   "pygments_lexer": "ipython3",
   "version": "3.9.2"
  }
 },
 "nbformat": 4,
 "nbformat_minor": 5
}
