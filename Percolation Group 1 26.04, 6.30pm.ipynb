{
 "cells": [
  {
   "cell_type": "markdown",
   "id": "charged-tunnel",
   "metadata": {},
   "source": [
    "# Percolation Group 1"
   ]
  },
  {
   "cell_type": "code",
   "execution_count": null,
   "id": "dental-steal",
   "metadata": {},
   "outputs": [],
   "source": []
  },
  {
   "cell_type": "code",
   "execution_count": 1,
   "id": "upset-sharing",
   "metadata": {},
   "outputs": [],
   "source": [
    "\n",
    "# Import libraries\n",
    "import numpy as np\n",
    "import matplotlib.pyplot as plt"
   ]
  },
  {
   "cell_type": "markdown",
   "id": "ahead-oliver",
   "metadata": {},
   "source": [
    "## 1 (core)"
   ]
  },
  {
   "cell_type": "code",
   "execution_count": 2,
   "id": "gross-prime",
   "metadata": {},
   "outputs": [],
   "source": [
    "\n",
    "def display_rand_grid(grid_size, p_yellow):\n",
    "    '''\n",
    "    A function to display a random square grid of blue and yellow squares.\n",
    "    First argument is the side length and the second is the probability that a square is yellow\n",
    "    '''\n",
    "\n",
    "    colours = np.random.rand(grid_size, grid_size)  # Initialise 2d array of random numbers between 0 and 1\n",
    "    colours = colours < p_yellow  # Sets each cell to 1 if it's less than p_yellow, else 0.\n",
    "\n",
    "    plt.figure(figsize=(6,6))  #set appropriate figure size\n",
    "    plt.title(\"probability = \" + str(p_yellow))  # Adds title showing probability of a point being filled yellow\n",
    "    plt.pcolor(colours, cmap=\"plasma\")  # Makes the graph a rectangular grid plot with yellow and blue colour scheme\n",
    "    plt.gca().set_aspect('equal')   #set equal aspect ratio\n",
    "    plt.plot() #Plots the grid\n",
    "    plt.show()\n",
    "    return colours\n",
    "    \n",
    "def display_grid(grid):\n",
    "    \n",
    "    plt.figure(figsize=(6,6))  #set appropriate figure size\n",
    "    plt.pcolor(grid, cmap=\"plasma\")  # Makes the graph a rectangular grid plot with yellow and blue colour scheme\n",
    "    plt.gca().set_aspect('equal')   #set equal aspect ratio\n",
    "    plt.plot() #Plots the grid\n",
    "    plt.show()\n",
    "    return None\n",
    "    "
   ]
  },
  {
   "cell_type": "code",
   "execution_count": 3,
   "id": "eligible-characteristic",
   "metadata": {},
   "outputs": [
    {
     "data": {
      "image/png": "[encoded data removed]",
      "text/plain": [
       "<Figure size 432x432 with 1 Axes>"
      ]
     },
     "metadata": {
      "needs_background": "light"
     },
     "output_type": "display_data"
    }
   ],
   "source": [
    "mygrid = display_rand_grid(10, 0.6)"
   ]
  },
  {
   "cell_type": "code",
   "execution_count": 4,
   "id": "compliant-gates",
   "metadata": {},
   "outputs": [],
   "source": [
    "def generate_grid(grid_size, p_yellow):\n",
    "    '''\n",
    "    Given grid size and probability of a square being yellow, this outputs\n",
    "    a numpy array of booleans, with true representing yellow\n",
    "    '''\n",
    "    \n",
    "    colours = np.random.rand(grid_size, grid_size)  # Initialise 2d array of random numbers between 0 and 1\n",
    "    colours = colours < p_yellow  # Sets each cell to 1 if it's less than p_yellow, else 0.\n",
    "    return colours\n",
    "    \n",
    "    "
   ]
  },
  {
   "cell_type": "code",
   "execution_count": null,
   "id": "coastal-albany",
   "metadata": {
    "scrolled": true
   },
   "outputs": [],
   "source": []
  },
  {
   "cell_type": "markdown",
   "id": "encouraging-princess",
   "metadata": {},
   "source": [
    "## 2 (core)"
   ]
  },
  {
   "cell_type": "code",
   "execution_count": 88,
   "id": "swedish-broadcasting",
   "metadata": {},
   "outputs": [],
   "source": [
    "def find_yellow_path(grid,show_path=False):\n",
    "    '''\n",
    "    For a numpy array of booleans (the yellow/blue grid), this function returns True or False\n",
    "    depending on whether or not a yellow path exists from the left to the right edge.\n",
    "    It will also display the path if you pass True\n",
    "    This is not efficient\n",
    "    '''\n",
    "    \n",
    "    #we know all the yellows on the left are reachable\n",
    "    grid_size = np.shape(grid)\n",
    "    side_length = grid_size[0]\n",
    "    #we make an array of the same size as the grid to store\n",
    "    #which squares we can reach. Initially we assume we can't reach any\n",
    "    #0 represents a square is unreachable\n",
    "    reachable = np.full(grid_size, 0)\n",
    "    #yellows is a list of arrays which contain the coordinates of each yellow square\n",
    "    yellows_xy = np.argwhere(grid == True).T\n",
    "\n",
    "    # we find the indices in the x coordinate array of each yellow in the left hand column of the grid\n",
    "    indices = np.where(yellows_xy[1] == 0)\n",
    "\n",
    "\n",
    "    # using the indices we found we now find the y coordinate of these yellow squares in the first column\n",
    "    # we iterate over each index to assign 1 to reachable[y,0] where [y,0] is yellow.\n",
    "    # 1 signifies a yellow reachable square in reachable while all currently unreached squares are 0\n",
    "    for i in (indices[0]):\n",
    "        reachable[yellows_xy[0][i], 0] = 1\n",
    "    \n",
    "    # we create an array of all coordinates of sites already checked in the form of a list of lists\n",
    "    reachable_array = np.asarray(np.where(reachable == 1)).T.tolist()\n",
    "\n",
    "    # now we search for adjacent yellow squares to the ones we already have\n",
    "    # we iterate over our array of coordinates of reachable squares\n",
    "    # we assign y and x for each squares so that we can later compare to adjacent sites\n",
    "    for square in reachable_array:\n",
    "        y = square[0]\n",
    "        x = square[1]\n",
    "        # As soon as a site on the RHS is shown to be reachable we return True\n",
    "        if 1 in reachable[:,side_length-1]:\n",
    "            # If show_path is set to True we display the grid with yellow squares those that we know to be reachable\n",
    "            if show_path == True:\n",
    "                display_grid(reachable)\n",
    "            return True\n",
    "        #check adjacent\n",
    "        #the first ifs in each part stops us getting index out of bounds errors\n",
    "        #we check !=1 because otherwise we'd find the same squares again\n",
    "        #and it would loop forever\n",
    "        else:\n",
    "            if x<side_length-1:\n",
    "                #checks right\n",
    "                if grid[y,x+1] == True and reachable[y,x+1] != 1:\n",
    "                    reachable[y,x+1] = 1\n",
    "                    reachable_array.append([y,x+1])\n",
    "            if y-1>=0:\n",
    "                #checks below\n",
    "                if grid[y-1,x] == True and reachable[y-1,x] != 1:\n",
    "                    reachable[y-1,x] = 1\n",
    "                    reachable_array.append([y-1,x])\n",
    "            if y<side_length-1:\n",
    "                #checks above\n",
    "                if grid[y+1,x] == True and reachable[y+1,x] != 1:\n",
    "                    reachable[y+1,x] = 1\n",
    "                    reachable_array.append([y+1,x])\n",
    "            if x-1>=0:\n",
    "                #checks left\n",
    "                if grid[y,x-1] == True and reachable[y,x-1] != 1:\n",
    "                    reachable[y,x-1] = 1\n",
    "                    reachable_array.append([y,x-1])\n",
    "    \n",
    "    # Return False if after no further reachable path is found and we have not reached the right hand side of the grid\n",
    "    if show_path == True:\n",
    "        display_grid(reachable)\n",
    "    return False"
   ]
  },
  {
   "cell_type": "code",
   "execution_count": 93,
   "id": "chief-attachment",
   "metadata": {},
   "outputs": [],
   "source": [
    "def find_yellow_path_(grid,show_path=False):\n",
    "    '''\n",
    "    For a numpy array of booleans (the yellow/blue grid), this function returns True or False\n",
    "    depending on whether or not a yellow path exists from the left to the right edge.\n",
    "    It will also display the path if you pass True\n",
    "    This is not efficient\n",
    "    '''\n",
    "    \n",
    "    #we know all the yellows on the left are reachable\n",
    "    grid_size = np.shape(grid)\n",
    "    side_length = grid_size[0]\n",
    "    #we make an array of the same size as the grid to store\n",
    "    #which squares we can reach. Initially we assume we can't reach any\n",
    "    #0 represents a square is unreachable\n",
    "    reachable = np.full(grid_size, 0)\n",
    "    #yellows is a list of arrays which contain the coordinates of each yellow square\n",
    "    yellows_xy = np.argwhere(grid == True).T\n",
    "\n",
    "    # we find the indices in the x coordinate array of each yellow in the left hand column of the grid\n",
    "    indices = np.where(yellows_xy[1] == 0)\n",
    "\n",
    "\n",
    "    # using the indices we found we now find the y coordinate of these yellow squares in the first column\n",
    "    # we iterate over each index to assign 1 to reachable[y,0] where [y,0] is yellow.\n",
    "    # 1 signifies a yellow reachable square in reachable while all currently unreached squares are 0\n",
    "    for i in (indices[0]):\n",
    "        reachable[yellows_xy[0][i], 0] = 1\n",
    "        \n",
    "    \n",
    "    # we create an array of all coordinates of sites already checked in the form of a list of lists\n",
    "    reachable_array = np.asarray(np.where(reachable == 1)).T.tolist()\n",
    "\n",
    "    # now we search for adjacent yellow squares to the ones we already have\n",
    "    # we iterate over our array of coordinates of reachable squares\n",
    "    # we assign y and x for each squares so that we can later compare to adjacent sites\n",
    "    for square in reachable_array:\n",
    "        y = square[0]\n",
    "        x = square[1]\n",
    "        # As soon as a site on the RHS is shown to be reachable we return True\n",
    "        if 1 in reachable[:,side_length-1]:\n",
    "            # If show_path is set to True we display the grid with yellow squares those that we know to be reachable\n",
    "            if show_path == True:\n",
    "                display_grid(reachable)\n",
    "            return True\n",
    "        #check adjacent\n",
    "        #the first ifs in each part stops us getting index out of bounds errors\n",
    "        #we check !=1 because otherwise we'd find the same squares again\n",
    "        #we don't check squares that are already checked\n",
    "        #and it would loop forever\n",
    "        else:\n",
    "            if x<side_length-1:\n",
    "                #checks right\n",
    "                if grid[y,x+1] == True and reachable[y,x+1] != 1:\n",
    "                    reachable[y,x+1] = 1\n",
    "                    reachable_array.append([y,x+1])\n",
    "            if y-1>=0:\n",
    "                #checks below\n",
    "                if grid[y-1,x] == True and reachable[y-1,x] != 1:\n",
    "                    reachable[y-1,x] = 1\n",
    "                    reachable_array.append([y-1,x])\n",
    "            if y<side_length-1:\n",
    "                #checks above\n",
    "                if grid[y+1,x] == True and reachable[y+1,x] != 1:\n",
    "                    reachable[y+1,x] = 1\n",
    "                    reachable_array.append([y+1,x])\n",
    "            if x-1>=0:\n",
    "                #checks left\n",
    "                if grid[y,x-1] == True and reachable[y,x-1] != 1:\n",
    "                    reachable[y,x-1] = 1\n",
    "                    reachable_array.append([y,x-1])\n",
    "           \n",
    "    \n",
    "    # Return False if after no further reachable path is found and we have not reached the right hand side of the grid\n",
    "    if show_path == True:\n",
    "        display_grid(reachable)\n",
    "    return False"
   ]
  },
  {
   "cell_type": "code",
   "execution_count": null,
   "id": "labeled-colors",
   "metadata": {},
   "outputs": [],
   "source": [
    "def Fn(trials, n, p):\n",
    "    \n",
    "    count = 0\n",
    "    \n",
    "    for i in range(trials):\n",
    "        grid = generate_grid(n, p)\n",
    "        if find_yellow_path(grid, False):\n",
    "            count += 1\n",
    "    \n",
    "    return 1.0 * count/trials\n",
    "        \n",
    "    \n",
    "def plot_Fn(trials, n):\n",
    "    \n",
    "    x_vals = np.arange(0.4, 0.8, 0.01)    \n",
    "    y_vals = [Fn(trials, n, p) for p in x_vals]\n",
    "    \n",
    "    plt.plot(x_vals, y_vals)\n",
    "import timeit    \n",
    "timeit.timeit(plot_Fn(10, 100),number=1) "
   ]
  },
  {
   "cell_type": "code",
   "execution_count": 99,
   "id": "shared-dodge",
   "metadata": {},
   "outputs": [
    {
     "data": {
      "image/png": "[encoded data removed]",
      "text/plain": [
       "<Figure size 432x288 with 1 Axes>"
      ]
     },
     "metadata": {
      "needs_background": "light"
     },
     "output_type": "display_data"
    }
   ],
   "source": [
    "#I made these tests a week ago, I just never uplaoded them\n",
    "\n",
    "def test(side_length,probability):\n",
    "    sample = generate_grid(side_length,probability)\n",
    "    if find_yellow_path(sample):\n",
    "        return 1\n",
    "    else:\n",
    "        return 0\n",
    "def many_tests(num_samples,side_length,probability,prob=0):\n",
    "    '''\n",
    "    This estimates the probability of there being a yellow path\n",
    "    from left to right based on the probability of a square being yellow\n",
    "    It carries out num_sample tests for each probability starting from prob\n",
    "    and going up in intervals of 0.01\n",
    "    '''\n",
    "    xvals = [] \n",
    "    yvals = []\n",
    "    while prob <= probability:\n",
    "        \n",
    "        newnew =  sum([test(side_length,prob) for x in range(num_samples)])/num_samples\n",
    "        yvals.append(newnew)\n",
    "        prob +=0.01\n",
    "        xvals.append(prob)\n",
    "\n",
    "    plt.plot(xvals,yvals)\n",
    "    plt.ylabel(f'probability of there being a yellow path')\n",
    "    plt.xlabel('probability of a square being yellow')\n",
    "    plt.show()\n",
    "    return None\n",
    "\n",
    "many_tests(100,100,0.7,prob=0.5)"
   ]
  }
 ],
 "metadata": {
  "kernelspec": {
   "display_name": "Python 3 (ipykernel)",
   "language": "python",
   "name": "python3"
  },
  "language_info": {
   "codemirror_mode": {
    "name": "ipython",
    "version": 3
   },
   "file_extension": ".py",
   "mimetype": "text/x-python",
   "name": "python",
   "nbconvert_exporter": "python",
   "pygments_lexer": "ipython3",
   "version": "3.9.2"
  }
 },
 "nbformat": 4,
 "nbformat_minor": 5
}
