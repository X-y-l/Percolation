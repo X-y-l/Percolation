{
 "cells": [
  {
   "cell_type": "markdown",
   "id": "charged-tunnel",
   "metadata": {},
   "source": [
    "# Percolation Group 1"
   ]
  },
  {
   "cell_type": "code",
   "execution_count": null,
   "id": "dental-steal",
   "metadata": {},
   "outputs": [],
   "source": []
  },
  {
   "cell_type": "markdown",
   "id": "foreign-participant",
   "metadata": {},
   "source": [
    "### Always run this cell before working on the code"
   ]
  },
  {
   "cell_type": "code",
   "execution_count": 1,
   "id": "upset-sharing",
   "metadata": {},
   "outputs": [],
   "source": [
    "\n",
    "# Import libraries\n",
    "import math\n",
    "import numpy as np\n",
    "import matplotlib.pyplot as plt"
   ]
  },
  {
   "cell_type": "markdown",
   "id": "ahead-oliver",
   "metadata": {},
   "source": [
    "## 1 (core)"
   ]
  },
  {
   "cell_type": "code",
   "execution_count": 2,
   "id": "gross-prime",
   "metadata": {},
   "outputs": [],
   "source": [
    "\n",
    "def display_rand_grid(grid_size, p_yellow):\n",
    "    '''\n",
    "    A function to display a random square grid of blue and yellow squares.\n",
    "    First argument is the side length and the second is the probability that a square is yellow\n",
    "    '''\n",
    "\n",
    "    colours = np.random.rand(grid_size, grid_size)  # Initialise 2d array of random numbers between 0 and 1\n",
    "    colours = colours < p_yellow  # Sets each cell to 1 if it's less than p_yellow, else 0.\n",
    "\n",
    "    plt.figure(figsize=(6,6))  #set appropriate figure size\n",
    "    plt.title(\"probability = \" + str(p_yellow))  # Adds title showing probability of a point being filled yellow\n",
    "    plt.pcolor(colours, cmap=\"plasma\")  # Makes the graph a rectangular grid plot with yellow and blue colour scheme\n",
    "    plt.gca().set_aspect('equal')   #set equal aspect ratio\n",
    "    plt.plot() #Plots the grid\n",
    "    plt.show()\n",
    "    return colours\n",
    "    \n",
    "def display_grid(grid):\n",
    "    \n",
    "    plt.figure(figsize=(6,6))  #set appropriate figure size\n",
    "    plt.pcolor(grid, cmap=\"plasma\")  # Makes the graph a rectangular grid plot with yellow and blue colour scheme\n",
    "    plt.gca().set_aspect('equal')   #set equal aspect ratio\n",
    "    plt.plot() #Plots the grid\n",
    "    plt.show()\n",
    "    return None\n"
   ]
  },
  {
   "cell_type": "code",
   "execution_count": 3,
   "id": "eligible-characteristic",
   "metadata": {},
   "outputs": [
    {
     "data": {
      "image/png": "[encoded data removed]",
      "text/plain": [
       "<Figure size 432x432 with 1 Axes>"
      ]
     },
     "metadata": {
      "needs_background": "light"
     },
     "output_type": "display_data"
    }
   ],
   "source": [
    "mygrid = display_rand_grid(10, 0.6)"
   ]
  },
  {
   "cell_type": "code",
   "execution_count": 7,
   "id": "compliant-gates",
   "metadata": {},
   "outputs": [],
   "source": [
    "def generate_grid(grid_size, p_yellow):\n",
    "    '''\n",
    "    Given grid size and probability of a square being yellow, this outputs\n",
    "    a numpy array of booleans, with true representing yellow\n",
    "    '''\n",
    "    \n",
    "    colours = np.random.rand(grid_size, grid_size)  # Initialise 2d array of random numbers between 0 and 1\n",
    "    colours = colours < p_yellow  # Sets each cell to 1 if it's less than p_yellow, else 0.\n",
    "    return colours\n",
    "    "
   ]
  },
  {
   "cell_type": "code",
   "execution_count": null,
   "id": "coastal-albany",
   "metadata": {
    "scrolled": true
   },
   "outputs": [],
   "source": []
  },
  {
   "cell_type": "markdown",
   "id": "encouraging-princess",
   "metadata": {},
   "source": [
    "## 2 (core)"
   ]
  },
  {
   "cell_type": "code",
   "execution_count": 4,
   "id": "thorough-neighbor",
   "metadata": {},
   "outputs": [],
   "source": [
    "def find_display_path(grid,show_path=False):\n",
    "    '''\n",
    "    For a numpy array of booleans (the yellow/blue grid), this function returns True or False\n",
    "    depending on whether or not a yellow path exists from the left to the right edge.\n",
    "    It will also display the path if you pass True\n",
    "    This is not efficient\n",
    "    '''\n",
    "    \n",
    "    #we know all the yellows on the left are reachable\n",
    "    grid_size = np.shape(grid)\n",
    "    x_length = grid_size[1]\n",
    "    y_length = grid_size[0]\n",
    "    #we make an array of the same size as the grid to store\n",
    "    #which squares we can reach. Initially we assume we can't reach any\n",
    "    #0 represents a square is unreachable\n",
    "    reachable = np.full(grid_size, 0)\n",
    "    #yellows is a list of arrays which contain the coordinates of each yellow square\n",
    "    yellows = np.argwhere(grid == True)\n",
    "    \n",
    "    # we store the x and y coordinates of the points in yellows in seperate arrays in a larger array yellows_xy \n",
    "    yellows_xy = np.array(yellows).T\n",
    "\n",
    "    # we find the indices in the x coordinate array of each yellow in the left hand column of the grid\n",
    "    indices = np.where(yellows_xy[1] == 0)\n",
    "\n",
    "    # using the indices we found we now find the y coordinate of these yellow squares in the first column\n",
    "    # we iterate over each index to assign 1 to reachable[y,0] where [y,0] is yellow.\n",
    "    # 1 signifies a yellow reachable square in reachable while all currently unreached squares are 0\n",
    "    for i in (indices[0]):\n",
    "        reachable[yellows_xy[0][i], 0] = 1\n",
    "    \n",
    "    # we create an array of all coordinates of sites already checked in the form of a list of lists\n",
    "    reachable_array = np.asarray(np.where(reachable == 1)).T.tolist()\n",
    "\n",
    "    # now we search for adjacent yellow squares to the ones we already have\n",
    "    # we iterate over our array of coordinates of reachable squares\n",
    "    # we assign y and x for each squares so that we can later compare to adjacent sites\n",
    "    for square in reachable_array:\n",
    "        y = square[0]\n",
    "        x = square[1]\n",
    "        # As soon as a site on the RHS is shown to be reachable we return True\n",
    "        if 1 in reachable[:,x_length-1]:\n",
    "            # If show_path is set to True we display the grid with yellow squares those that we know to be reachable\n",
    "            if show_path == True:\n",
    "                display_grid(reachable)\n",
    "            return True\n",
    "        #check adjacent\n",
    "        #the first ifs in each part stops us getting index out of bounds errors\n",
    "        #we check !=1 because otherwise we'd find the same squares again\n",
    "        #and it would loop forever\n",
    "        else:\n",
    "            if x<x_length-1:\n",
    "                #checks right\n",
    "                if grid[y,x+1] == True and reachable[y,x+1] != 1:\n",
    "                    reachable[y,x+1] = 1\n",
    "                    reachable_array.append([y,x+1])\n",
    "            if y-1>=0:\n",
    "                #checks below\n",
    "                if grid[y-1,x] == True and reachable[y-1,x] != 1:\n",
    "                    reachable[y-1,x] = 1\n",
    "                    reachable_array.append([y-1,x])\n",
    "            if y<y_length-1:\n",
    "                #checks above\n",
    "                if grid[y+1,x] == True and reachable[y+1,x] != 1:\n",
    "                    reachable[y+1,x] = 1\n",
    "                    reachable_array.append([y+1,x])\n",
    "            if x-1>=0:\n",
    "                #checks left\n",
    "                if grid[y,x-1] == True and reachable[y,x-1] != 1:\n",
    "                    reachable[y,x-1] = 1\n",
    "                    reachable_array.append([y,x-1])\n",
    "    \n",
    "    if show_path == True:\n",
    "        display_grid(reachable)\n",
    "    # Return False if after no further reachable path is found and we have not reached the right hand side of the grid\n",
    "    return False"
   ]
  },
  {
   "cell_type": "code",
   "execution_count": 5,
   "id": "respected-volunteer",
   "metadata": {},
   "outputs": [],
   "source": [
    "# For the sake of performance this function is not able to display the path but is otherwise the same as find_display_path\n",
    "def find_path_across(grid):\n",
    "    '''\n",
    "    For a numpy array of booleans (the yellow/blue grid), this function returns True or False\n",
    "    depending on whether or not a yellow path exists from the left to the right edge.\n",
    "    It will also display the path if you pass True\n",
    "    This is not efficient\n",
    "    '''\n",
    "    \n",
    "    #we know all the yellows on the left are reachable\n",
    "    grid_size = np.shape(grid)\n",
    "    x_length = grid_size[1]\n",
    "    y_length = grid_size[0]\n",
    "    #we make an array of the same size as the grid to store\n",
    "    #which squares we can reach. Initially we assume we can't reach any\n",
    "    #0 represents a square is unreachable\n",
    "    reachable = np.full(grid_size, 0)\n",
    "    #yellows is a list of arrays which contain the coordinates of each yellow square\n",
    "    yellows = np.argwhere(grid == True)\n",
    "    \n",
    "    # we store the x and y coordinates of the points in yellows in seperate arrays in a larger array yellows_xy \n",
    "    yellows_xy = np.array(yellows).T\n",
    "\n",
    "    # we find the indices in the x coordinate array of each yellow in the left hand column of the grid\n",
    "    indices = np.where(yellows_xy[1] == 0)\n",
    "\n",
    "    # using the indices we found we now find the y coordinate of these yellow squares in the first column\n",
    "    # we iterate over each index to assign 1 to reachable[y,0] where [y,0] is yellow.\n",
    "    # 1 signifies a yellow reachable square in reachable while all currently unreached squares are 0\n",
    "    for i in (indices[0]):\n",
    "        reachable[yellows_xy[0][i], 0] = 1\n",
    "    \n",
    "    # we create an array of all coordinates of sites already checked in the form of a list of lists\n",
    "    reachable_array = np.asarray(np.where(reachable == 1)).T.tolist()\n",
    "\n",
    "    # now we search for adjacent yellow squares to the ones we already have\n",
    "    # we iterate over our array of coordinates of reachable squares\n",
    "    # we assign y and x for each squares so that we can later compare to adjacent sites\n",
    "    for square in reachable_array:\n",
    "        y = square[0]\n",
    "        x = square[1]\n",
    "        # As soon as a site on the RHS is shown to be reachable we return True\n",
    "        if 1 in reachable[:,x_length-1]:\n",
    "            return True\n",
    "        #check adjacent\n",
    "        #the first ifs in each part stops us getting index out of bounds errors\n",
    "        #we check !=1 because otherwise we'd find the same squares again\n",
    "        #and it would loop forever\n",
    "        else:\n",
    "            if x<x_length-1:\n",
    "                #checks right\n",
    "                if grid[y,x+1] == True and reachable[y,x+1] != 1:\n",
    "                    reachable[y,x+1] = 1\n",
    "                    reachable_array.append([y,x+1])\n",
    "            if y-1>=0:\n",
    "                #checks below\n",
    "                if grid[y-1,x] == True and reachable[y-1,x] != 1:\n",
    "                    reachable[y-1,x] = 1\n",
    "                    reachable_array.append([y-1,x])\n",
    "            if y<y_length-1:\n",
    "                #checks above\n",
    "                if grid[y+1,x] == True and reachable[y+1,x] != 1:\n",
    "                    reachable[y+1,x] = 1\n",
    "                    reachable_array.append([y+1,x])\n",
    "            if x-1>=0:\n",
    "                #checks left\n",
    "                if grid[y,x-1] == True and reachable[y,x-1] != 1:\n",
    "                    reachable[y,x-1] = 1\n",
    "                    reachable_array.append([y,x-1])\n",
    "    \n",
    "    # Return False if after no further reachable path is found and we have not reached the right hand side of the grid\n",
    "    return False"
   ]
  },
  {
   "cell_type": "code",
   "execution_count": 8,
   "id": "golden-impact",
   "metadata": {},
   "outputs": [
    {
     "data": {
      "image/png": "[encoded data removed]",
      "text/plain": [
       "<Figure size 432x432 with 1 Axes>"
      ]
     },
     "metadata": {
      "needs_background": "light"
     },
     "output_type": "display_data"
    }
   ],
   "source": [
    "mygrid = generate_grid(200, 0.6)\n",
    "display_grid(mygrid)"
   ]
  },
  {
   "cell_type": "code",
   "execution_count": 9,
   "id": "finnish-cleaning",
   "metadata": {},
   "outputs": [
    {
     "data": {
      "image/png": "[encoded data removed]",
      "text/plain": [
       "<Figure size 432x432 with 1 Axes>"
      ]
     },
     "metadata": {
      "needs_background": "light"
     },
     "output_type": "display_data"
    },
    {
     "data": {
      "text/plain": [
       "True"
      ]
     },
     "execution_count": 9,
     "metadata": {},
     "output_type": "execute_result"
    }
   ],
   "source": [
    "find_display_path(mygrid, True)"
   ]
  },
  {
   "cell_type": "code",
   "execution_count": 11,
   "id": "labeled-colors",
   "metadata": {},
   "outputs": [
    {
     "data": {
      "image/png": "[encoded data removed]",
      "text/plain": [
       "<Figure size 432x288 with 1 Axes>"
      ]
     },
     "metadata": {
      "needs_background": "light"
     },
     "output_type": "display_data"
    }
   ],
   "source": [
    "def Fn(trials, n, p, grid_type):\n",
    "    \n",
    "    count = 0\n",
    "    \n",
    "    for i in range(trials):\n",
    "        grid = grid_type(n, p)\n",
    "        if find_path_across(grid):\n",
    "            count += 1\n",
    "    \n",
    "    return 1.0 * count/trials\n",
    "        \n",
    "    \n",
    "def plot_Fn(trials, n, grid_type):\n",
    "    \n",
    "    x_vals = np.arange(0.5, 0.7, 0.01)    \n",
    "    y_vals = np.array([Fn(trials, n, p, grid_type) for p in x_vals])\n",
    "    \n",
    "    Pc_idx = np.argmax(y_vals[1:] - y_vals[:-1])\n",
    "    \n",
    "    plt.plot(x_vals, y_vals)\n",
    "    plt.plot(x_vals[Pc_idx], y_vals[Pc_idx],'o', color = 'green')\n",
    "    plt.text(x_vals[Pc_idx]+0.02, y_vals[Pc_idx], f\"$P_c = {x_vals[Pc_idx]:.2f}$\", ha=\"center\")\n",
    "    plt.axvline(x_vals[Pc_idx], ls='--')\n",
    "    plt.xlabel(\"Probability of Yellow Squares\")\n",
    "    plt.ylabel(\"Probability of Percolation\")\n",
    "    plt.title(f\"Probability of Percolation for n = {n}\")\n",
    "\n",
    "plot_Fn(10, 1000, generate_grid)"
   ]
  },
  {
   "cell_type": "code",
   "execution_count": 13,
   "id": "renewable-occasions",
   "metadata": {},
   "outputs": [],
   "source": [
    "def generate_2nxn(n, p_yellow):\n",
    "    \n",
    "    colours = np.random.rand(n, 2*n)  # Initialise 2d array of random numbers between 0 and 1\n",
    "    colours = colours < p_yellow  # Sets each cell to 1 if it's less than p_yellow, else 0.\n",
    "    return colours\n",
    "\n",
    "def generate_3nx2n(n, p_yellow):\n",
    "    \n",
    "    colours = np.random.rand(2*n, 3*n)  # Initialise 2d array of random numbers between 0 and 1\n",
    "    colours = colours < p_yellow  # Sets each cell to 1 if it's less than p_yellow, else 0.\n",
    "    return colours"
   ]
  },
  {
   "cell_type": "code",
   "execution_count": 14,
   "id": "horizontal-canal",
   "metadata": {},
   "outputs": [
    {
     "ename": "TypeError",
     "evalue": "plot_Fn() takes 2 positional arguments but 3 were given",
     "output_type": "error",
     "traceback": [
      "\u001b[0;31m---------------------------------------------------------------------------\u001b[0m",
      "\u001b[0;31mTypeError\u001b[0m                                 Traceback (most recent call last)",
      "\u001b[0;32m/tmp/ipykernel_30/55145343.py\u001b[0m in \u001b[0;36m<module>\u001b[0;34m\u001b[0m\n\u001b[0;32m----> 1\u001b[0;31m \u001b[0mplot_Fn\u001b[0m\u001b[0;34m(\u001b[0m\u001b[0;36m100\u001b[0m\u001b[0;34m,\u001b[0m \u001b[0;36m100\u001b[0m\u001b[0;34m,\u001b[0m \u001b[0mgenerate_2nxn\u001b[0m\u001b[0;34m)\u001b[0m\u001b[0;34m\u001b[0m\u001b[0;34m\u001b[0m\u001b[0m\n\u001b[0m",
      "\u001b[0;31mTypeError\u001b[0m: plot_Fn() takes 2 positional arguments but 3 were given"
     ]
    }
   ],
   "source": [
    "plot_Fn(100, 100, generate_2nxn)"
   ]
  },
  {
   "cell_type": "code",
   "execution_count": null,
   "id": "fundamental-flush",
   "metadata": {},
   "outputs": [],
   "source": []
  }
 ],
 "metadata": {
  "kernelspec": {
   "display_name": "Python 3 (ipykernel)",
   "language": "python",
   "name": "python3"
  },
  "language_info": {
   "codemirror_mode": {
    "name": "ipython",
    "version": 3
   },
   "file_extension": ".py",
   "mimetype": "text/x-python",
   "name": "python",
   "nbconvert_exporter": "python",
   "pygments_lexer": "ipython3",
   "version": "3.9.2"
  }
 },
 "nbformat": 4,
 "nbformat_minor": 5
}
